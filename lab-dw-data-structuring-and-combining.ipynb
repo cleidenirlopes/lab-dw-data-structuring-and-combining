{
 "cells": [
  {
   "cell_type": "markdown",
   "id": "25d7736c-ba17-4aff-b6bb-66eba20fbf4e",
   "metadata": {
    "id": "25d7736c-ba17-4aff-b6bb-66eba20fbf4e"
   },
   "source": [
    "# Lab | Data Structuring and Combining Data"
   ]
  },
  {
   "cell_type": "markdown",
   "id": "a2cdfc70-44c8-478c-81e7-2bc43fdf4986",
   "metadata": {
    "id": "a2cdfc70-44c8-478c-81e7-2bc43fdf4986"
   },
   "source": [
    "## Challenge 1: Combining & Cleaning Data\n",
    "\n",
    "In this challenge, we will be working with the customer data from an insurance company, as we did in the two previous labs. The data can be found here:\n",
    "- https://raw.githubusercontent.com/data-bootcamp-v4/data/main/file1.csv\n",
    "\n",
    "But this time, we got new data, which can be found in the following 2 CSV files located at the links below.\n",
    "\n",
    "- https://raw.githubusercontent.com/data-bootcamp-v4/data/main/file2.csv\n",
    "- https://raw.githubusercontent.com/data-bootcamp-v4/data/main/file3.csv\n",
    "\n",
    "Note that you'll need to clean and format the new data.\n",
    "\n",
    "Observation:\n",
    "- One option is to first combine the three datasets and then apply the cleaning function to the new combined dataset\n",
    "- Another option would be to read the clean file you saved in the previous lab, and just clean the two new files and concatenate the three clean datasets"
   ]
  },
  {
   "cell_type": "code",
   "execution_count": 8,
   "id": "492d06e3-92c7-4105-ac72-536db98d3244",
   "metadata": {
    "id": "492d06e3-92c7-4105-ac72-536db98d3244"
   },
   "outputs": [
    {
     "name": "stdout",
     "output_type": "stream",
     "text": [
      "Dataset 1 columns:\n",
      " Index(['Customer', 'ST', 'GENDER', 'Education', 'Customer Lifetime Value',\n",
      "       'Income', 'Monthly Premium Auto', 'Number of Open Complaints',\n",
      "       'Policy Type', 'Vehicle Class', 'Total Claim Amount'],\n",
      "      dtype='object') \n",
      "\n",
      "Dataset 2 columns:\n",
      " Index(['Customer', 'ST', 'GENDER', 'Education', 'Customer Lifetime Value',\n",
      "       'Income', 'Monthly Premium Auto', 'Number of Open Complaints',\n",
      "       'Total Claim Amount', 'Policy Type', 'Vehicle Class'],\n",
      "      dtype='object') \n",
      "\n",
      "Dataset 3 columns:\n",
      " Index(['Customer', 'State', 'Customer Lifetime Value', 'Education', 'Gender',\n",
      "       'Income', 'Monthly Premium Auto', 'Number of Open Complaints',\n",
      "       'Policy Type', 'Total Claim Amount', 'Vehicle Class'],\n",
      "      dtype='object') \n",
      "\n",
      "\n",
      "Combined Dataset:\n",
      "+----+------------+------------+----------+----------------------+---------------------------+----------+------------------------+-----------------------------+----------------+-----------------+----------------------+---------+----------+\n",
      "|    | Customer   | ST         | GENDER   | Education            | Customer Lifetime Value   |   Income |   Monthly Premium Auto | Number of Open Complaints   | Policy Type    | Vehicle Class   |   Total Claim Amount |   State |   Gender |\n",
      "+====+============+============+==========+======================+===========================+==========+========================+=============================+================+=================+======================+=========+==========+\n",
      "|  0 | RB50392    | Washington | nan      | Master               | nan                       |        0 |                   1000 | 1/0/00                      | Personal Auto  | Four-Door Car   |              2.70493 |     nan |      nan |\n",
      "+----+------------+------------+----------+----------------------+---------------------------+----------+------------------------+-----------------------------+----------------+-----------------+----------------------+---------+----------+\n",
      "|  1 | QZ44356    | Arizona    | F        | Bachelor             | 697953.59%                |        0 |                     94 | 1/0/00                      | Personal Auto  | Four-Door Car   |           1131.46    |     nan |      nan |\n",
      "+----+------------+------------+----------+----------------------+---------------------------+----------+------------------------+-----------------------------+----------------+-----------------+----------------------+---------+----------+\n",
      "|  2 | AI49188    | Nevada     | F        | Bachelor             | 1288743.17%               |    48767 |                    108 | 1/0/00                      | Personal Auto  | Two-Door Car    |            566.472   |     nan |      nan |\n",
      "+----+------------+------------+----------+----------------------+---------------------------+----------+------------------------+-----------------------------+----------------+-----------------+----------------------+---------+----------+\n",
      "|  3 | WW63253    | California | M        | Bachelor             | 764586.18%                |        0 |                    106 | 1/0/00                      | Corporate Auto | SUV             |            529.881   |     nan |      nan |\n",
      "+----+------------+------------+----------+----------------------+---------------------------+----------+------------------------+-----------------------------+----------------+-----------------+----------------------+---------+----------+\n",
      "|  4 | GA49547    | Washington | M        | High School or Below | 536307.65%                |    36357 |                     68 | 1/0/00                      | Personal Auto  | Four-Door Car   |             17.2693  |     nan |      nan |\n",
      "+----+------------+------------+----------+----------------------+---------------------------+----------+------------------------+-----------------------------+----------------+-----------------+----------------------+---------+----------+\n"
     ]
    }
   ],
   "source": [
    "import pandas as pd\n",
    "from tabulate import tabulate\n",
    "\n",
    "# List of URLs\n",
    "urls = [\n",
    "    \"https://raw.githubusercontent.com/data-bootcamp-v4/data/main/file1.csv\",\n",
    "    \"https://raw.githubusercontent.com/data-bootcamp-v4/data/main/file2.csv\",\n",
    "    \"https://raw.githubusercontent.com/data-bootcamp-v4/data/main/file3.csv\",\n",
    "]\n",
    "\n",
    "# Combine all datasets\n",
    "Combining_Data = pd.DataFrame()  # Initialize an empty DataFrame\n",
    "\n",
    "for i, url in enumerate(urls):\n",
    "    df = pd.read_csv(url)\n",
    "    \n",
    "    # Print current dataset's columns\n",
    "    print(f\"Dataset {i + 1} columns:\\n\", df.columns, \"\\n\")\n",
    "    \n",
    "    # Append to the combined dataset\n",
    "    Combining_Data = pd.concat([Combining_Data, df], ignore_index=True)\n",
    "\n",
    "# Preview the combined dataset\n",
    "print(\"\\nCombined Dataset:\")\n",
    "print(tabulate(Combining_Data.head(), headers=\"keys\", tablefmt=\"grid\"))\n"
   ]
  },
  {
   "cell_type": "code",
   "execution_count": 9,
   "id": "415a69b4",
   "metadata": {},
   "outputs": [
    {
     "name": "stdout",
     "output_type": "stream",
     "text": [
      "Cleaned Data:\n",
      "+------------+----------+----------+-------------+---------------------------+----------+------------------------+-----------------------------+---------------+-----------------+----------------------+---------+----------+\n",
      "| Customer   | States   | GENDER   | Education   | Customer Lifetime Value   | Income   | Monthly Premium Auto   | Number of Open Complaints   | Policy Type   | Vehicle Class   | Total Claim Amount   | State   | Gender   |\n",
      "+============+==========+==========+=============+===========================+==========+========================+=============================+===============+=================+======================+=========+==========+\n",
      "+------------+----------+----------+-------------+---------------------------+----------+------------------------+-----------------------------+---------------+-----------------+----------------------+---------+----------+\n"
     ]
    }
   ],
   "source": [
    "# Step 1: Remove rows with NaN values\n",
    "cleaned_data = Combining_Data.dropna()\n",
    "\n",
    "# Step 2: Remove rows with any column value as 0\n",
    "cleaned_data = cleaned_data[(cleaned_data != 0).all(axis=1)]\n",
    "\n",
    "# Step 3: Replace abbreviations (e.g., 'ST') with full names (e.g., 'States')\n",
    "# Check if the column 'ST' exists and replace its values if necessary\n",
    "if 'ST' in cleaned_data.columns:\n",
    "    cleaned_data = cleaned_data.rename(columns={'ST': 'States'})\n",
    "\n",
    "# Optional: Preview the cleaned dataset\n",
    "print(\"Cleaned Data:\")\n",
    "print(tabulate(cleaned_data.head(), headers=\"keys\", tablefmt=\"grid\"))\n",
    "\n"
   ]
  },
  {
   "cell_type": "code",
   "execution_count": 11,
   "id": "ae35c7ad",
   "metadata": {},
   "outputs": [
    {
     "name": "stdout",
     "output_type": "stream",
     "text": [
      "\n",
      "Missing Values in Each Column:\n",
      "+----+---------------------------+------------------+\n",
      "|    | Column                    |   Missing Values |\n",
      "+====+===========================+==================+\n",
      "|  0 | Customer                  |             2937 |\n",
      "+----+---------------------------+------------------+\n",
      "|  1 | ST                        |            10007 |\n",
      "+----+---------------------------+------------------+\n",
      "|  2 | GENDER                    |            10129 |\n",
      "+----+---------------------------+------------------+\n",
      "|  3 | Education                 |             2937 |\n",
      "+----+---------------------------+------------------+\n",
      "|  4 | Customer Lifetime Value   |             2944 |\n",
      "+----+---------------------------+------------------+\n",
      "|  5 | Income                    |             2937 |\n",
      "+----+---------------------------+------------------+\n",
      "|  6 | Monthly Premium Auto      |             2937 |\n",
      "+----+---------------------------+------------------+\n",
      "|  7 | Number of Open Complaints |             2937 |\n",
      "+----+---------------------------+------------------+\n",
      "|  8 | Policy Type               |             2937 |\n",
      "+----+---------------------------+------------------+\n",
      "|  9 | Vehicle Class             |             2937 |\n",
      "+----+---------------------------+------------------+\n",
      "| 10 | Total Claim Amount        |             2937 |\n",
      "+----+---------------------------+------------------+\n",
      "| 11 | State                     |             5004 |\n",
      "+----+---------------------------+------------------+\n",
      "| 12 | Gender                    |             5004 |\n",
      "+----+---------------------------+------------------+\n"
     ]
    }
   ],
   "source": [
    "# Check for null values in each column\n",
    "missing_values = Combining_Data.isnull().sum()\n",
    "print(\"\\nMissing Values in Each Column:\")\n",
    "print(tabulate(missing_values[missing_values > 0].reset_index(), headers=[\"Column\", \"Missing Values\"], tablefmt=\"grid\"))\n"
   ]
  },
  {
   "cell_type": "code",
   "execution_count": 15,
   "id": "3afd0522",
   "metadata": {},
   "outputs": [
    {
     "name": "stdout",
     "output_type": "stream",
     "text": [
      "\n",
      "Missing Values After Cleaning:\n",
      "0\n"
     ]
    }
   ],
   "source": [
    "# Drop rows with missing values\n",
    "Combining_Data = Combining_Data.dropna()\n",
    "\n",
    "# Confirm no missing values remain\n",
    "print(\"\\nMissing Values After Cleaning:\")\n",
    "print(Combining_Data.isnull().sum().sum())  # Should be 0\n"
   ]
  },
  {
   "cell_type": "code",
   "execution_count": 16,
   "id": "a27d7983",
   "metadata": {},
   "outputs": [
    {
     "name": "stdout",
     "output_type": "stream",
     "text": [
      "\n",
      "Column Names After Formatting:\n",
      "Index(['customer', 'st', 'gender', 'education', 'customer_lifetime_value',\n",
      "       'income', 'monthly_premium_auto', 'number_of_open_complaints',\n",
      "       'policy_type', 'vehicle_class', 'total_claim_amount', 'state',\n",
      "       'gender'],\n",
      "      dtype='object')\n"
     ]
    }
   ],
   "source": [
    "# Standardize column names\n",
    "Combining_Data.columns = Combining_Data.columns.str.lower().str.replace(\" \", \"_\")\n",
    "print(\"\\nColumn Names After Formatting:\")\n",
    "print(Combining_Data.columns)\n"
   ]
  },
  {
   "cell_type": "code",
   "execution_count": null,
   "id": "dc62c8ed",
   "metadata": {},
   "outputs": [
    {
     "name": "stdout",
     "output_type": "stream",
     "text": [
      "\n",
      "Data Types After Formatting:\n",
      "customer                      object\n",
      "st                            object\n",
      "gender                        object\n",
      "education                     object\n",
      "customer_lifetime_value      float64\n",
      "income                       float64\n",
      "monthly_premium_auto         float64\n",
      "number_of_open_complaints     object\n",
      "policy_type                   object\n",
      "vehicle_class                 object\n",
      "total_claim_amount           float64\n",
      "state                         object\n",
      "gender                        object\n",
      "dtype: object\n"
     ]
    }
   ],
   "source": [
    "# Example: Convert date columns to datetime\n",
    "if 'effective_to_date' in Combining_Data.columns:\n",
    "    Combining_Data['effective_to_date'] = pd.to_datetime(Combining_Data['effective_to_date'])\n",
    "\n",
    "# Convert numeric-like strings (e.g., '10,000') to integers\n",
    "numeric_columns = ['customer_lifetime_value', 'income']\n",
    "for col in numeric_columns:\n",
    "    if col in Combining_Data.columns:\n",
    "        Combining_Data[col] = Combining_Data[col].replace(\",\", \"\", regex=True).astype(float)\n",
    "\n",
    "print(\"\\nData Types After Formatting:\")\n",
    "print(Combining_Data.dtypes)\n"
   ]
  },
  {
   "cell_type": "markdown",
   "id": "31b8a9e7-7db9-4604-991b-ef6771603e57",
   "metadata": {
    "id": "31b8a9e7-7db9-4604-991b-ef6771603e57"
   },
   "source": [
    "# Challenge 2: Structuring Data"
   ]
  },
  {
   "cell_type": "markdown",
   "id": "a877fd6d-7a0c-46d2-9657-f25036e4ca4b",
   "metadata": {
    "id": "a877fd6d-7a0c-46d2-9657-f25036e4ca4b"
   },
   "source": [
    "In this challenge, we will continue to work with customer data from an insurance company, but we will use a dataset with more columns, called marketing_customer_analysis.csv, which can be found at the following link:\n",
    "\n",
    "https://raw.githubusercontent.com/data-bootcamp-v4/data/main/marketing_customer_analysis_clean.csv\n",
    "\n",
    "This dataset contains information such as customer demographics, policy details, vehicle information, and the customer's response to the last marketing campaign. Our goal is to explore and analyze this data by performing data cleaning, formatting, and structuring."
   ]
  },
  {
   "cell_type": "code",
   "execution_count": 97,
   "id": "aa10d9b0-1c27-4d3f-a8e4-db6ab73bfd26",
   "metadata": {
    "id": "aa10d9b0-1c27-4d3f-a8e4-db6ab73bfd26"
   },
   "outputs": [
    {
     "name": "stdout",
     "output_type": "stream",
     "text": [
      "First 5 rows of the dataset:\n",
      "+----+--------------+------------+------------+---------------------------+------------+------------+-------------+---------------------+--------------------+----------+----------+-----------------+------------------+------------------------+---------------------------+---------------------------------+-----------------------------+----------------------+----------------+--------------+--------------------+-----------------+----------------------+-----------------+----------------+----------------+---------+\n",
      "|    |   unnamed:_0 | customer   | state      |   customer_lifetime_value | response   | coverage   | education   | effective_to_date   | employmentstatus   | gender   |   income | location_code   | marital_status   |   monthly_premium_auto |   months_since_last_claim |   months_since_policy_inception |   number_of_open_complaints |   number_of_policies | policy_type    | policy       | renew_offer_type   | sales_channel   |   total_claim_amount | vehicle_class   | vehicle_size   | vehicle_type   |   month |\n",
      "+====+==============+============+============+===========================+============+============+=============+=====================+====================+==========+==========+=================+==================+========================+===========================+=================================+=============================+======================+================+==============+====================+=================+======================+=================+================+================+=========+\n",
      "|  0 |            0 | DK49336    | Arizona    |                   4809.22 | No         | Basic      | College     | 2011-02-18          | Employed           | M        |    48029 | Suburban        | Married          |                     61 |                    7      |                              52 |                    0        |                    9 | Corporate Auto | Corporate L3 | Offer3             | Agent           |              292.8   | Four-Door Car   | Medsize        | A              |       2 |\n",
      "+----+--------------+------------+------------+---------------------------+------------+------------+-------------+---------------------+--------------------+----------+----------+-----------------+------------------+------------------------+---------------------------+---------------------------------+-----------------------------+----------------------+----------------+--------------+--------------------+-----------------+----------------------+-----------------+----------------+----------------+---------+\n",
      "|  1 |            1 | KX64629    | California |                   2228.53 | No         | Basic      | College     | 2011-01-18          | Unemployed         | F        |        0 | Suburban        | Single           |                     64 |                    3      |                              26 |                    0        |                    1 | Personal Auto  | Personal L3  | Offer4             | Call Center     |              744.924 | Four-Door Car   | Medsize        | A              |       1 |\n",
      "+----+--------------+------------+------------+---------------------------+------------+------------+-------------+---------------------+--------------------+----------+----------+-----------------+------------------+------------------------+---------------------------+---------------------------------+-----------------------------+----------------------+----------------+--------------+--------------------+-----------------+----------------------+-----------------+----------------+----------------+---------+\n",
      "|  2 |            2 | LZ68649    | Washington |                  14947.9  | No         | Basic      | Bachelor    | 2011-02-10          | Employed           | M        |    22139 | Suburban        | Single           |                    100 |                   34      |                              31 |                    0        |                    2 | Personal Auto  | Personal L3  | Offer3             | Call Center     |              480     | SUV             | Medsize        | A              |       2 |\n",
      "+----+--------------+------------+------------+---------------------------+------------+------------+-------------+---------------------+--------------------+----------+----------+-----------------+------------------+------------------------+---------------------------+---------------------------------+-----------------------------+----------------------+----------------+--------------+--------------------+-----------------+----------------------+-----------------+----------------+----------------+---------+\n",
      "|  3 |            3 | XL78013    | Oregon     |                  22332.4  | Yes        | Extended   | College     | 2011-01-11          | Employed           | M        |    49078 | Suburban        | Single           |                     97 |                   10      |                               3 |                    0        |                    2 | Corporate Auto | Corporate L3 | Offer2             | Branch          |              484.013 | Four-Door Car   | Medsize        | A              |       1 |\n",
      "+----+--------------+------------+------------+---------------------------+------------+------------+-------------+---------------------+--------------------+----------+----------+-----------------+------------------+------------------------+---------------------------+---------------------------------+-----------------------------+----------------------+----------------+--------------+--------------------+-----------------+----------------------+-----------------+----------------+----------------+---------+\n",
      "|  4 |            4 | QA50777    | Oregon     |                   9025.07 | No         | Premium    | Bachelor    | 2011-01-17          | Medical Leave      | F        |    23675 | Suburban        | Married          |                    117 |                   15.1491 |                              31 |                    0.384256 |                    7 | Personal Auto  | Personal L2  | Offer1             | Branch          |              707.926 | Four-Door Car   | Medsize        | A              |       1 |\n",
      "+----+--------------+------------+------------+---------------------------+------------+------------+-------------+---------------------+--------------------+----------+----------+-----------------+------------------+------------------------+---------------------------+---------------------------------+-----------------------------+----------------------+----------------+--------------+--------------------+-----------------+----------------------+-----------------+----------------+----------------+---------+\n",
      "\n",
      "Dataset Info:\n",
      "<class 'pandas.core.frame.DataFrame'>\n",
      "RangeIndex: 10910 entries, 0 to 10909\n",
      "Data columns (total 27 columns):\n",
      " #   Column                         Non-Null Count  Dtype  \n",
      "---  ------                         --------------  -----  \n",
      " 0   unnamed:_0                     10910 non-null  int64  \n",
      " 1   customer                       10910 non-null  object \n",
      " 2   state                          10910 non-null  object \n",
      " 3   customer_lifetime_value        10910 non-null  float64\n",
      " 4   response                       10910 non-null  object \n",
      " 5   coverage                       10910 non-null  object \n",
      " 6   education                      10910 non-null  object \n",
      " 7   effective_to_date              10910 non-null  object \n",
      " 8   employmentstatus               10910 non-null  object \n",
      " 9   gender                         10910 non-null  object \n",
      " 10  income                         10910 non-null  int64  \n",
      " 11  location_code                  10910 non-null  object \n",
      " 12  marital_status                 10910 non-null  object \n",
      " 13  monthly_premium_auto           10910 non-null  int64  \n",
      " 14  months_since_last_claim        10910 non-null  float64\n",
      " 15  months_since_policy_inception  10910 non-null  int64  \n",
      " 16  number_of_open_complaints      10910 non-null  float64\n",
      " 17  number_of_policies             10910 non-null  int64  \n",
      " 18  policy_type                    10910 non-null  object \n",
      " 19  policy                         10910 non-null  object \n",
      " 20  renew_offer_type               10910 non-null  object \n",
      " 21  sales_channel                  10910 non-null  object \n",
      " 22  total_claim_amount             10910 non-null  float64\n",
      " 23  vehicle_class                  10910 non-null  object \n",
      " 24  vehicle_size                   10910 non-null  object \n",
      " 25  vehicle_type                   10910 non-null  object \n",
      " 26  month                          10910 non-null  int64  \n",
      "dtypes: float64(4), int64(6), object(17)\n",
      "memory usage: 2.2+ MB\n",
      "None\n"
     ]
    }
   ],
   "source": [
    "import pandas as pd\n",
    "from tabulate import tabulate\n",
    "\n",
    "# Load the dataset\n",
    "url = \"https://raw.githubusercontent.com/data-bootcamp-v4/data/main/marketing_customer_analysis_clean.csv\"\n",
    "data = pd.read_csv(url)\n",
    "\n",
    "# Preview the dataset\n",
    "print(\"First 5 rows of the dataset:\")\n",
    "print(tabulate(data.head(), headers=\"keys\", tablefmt=\"grid\"))\n",
    "\n",
    "# Check basic info about the dataset\n",
    "print(\"\\nDataset Info:\")\n",
    "print(data.info())\n"
   ]
  },
  {
   "cell_type": "code",
   "execution_count": 99,
   "id": "063085a0",
   "metadata": {},
   "outputs": [
    {
     "name": "stdout",
     "output_type": "stream",
     "text": [
      "\n",
      "Missing Values in Each Column:\n",
      "+----------+------------------+\n",
      "| Column   | Missing Values   |\n",
      "+==========+==================+\n",
      "+----------+------------------+\n"
     ]
    }
   ],
   "source": [
    "# Check for null values in each column\n",
    "missing_values = data.isnull().sum()\n",
    "print(\"\\nMissing Values in Each Column:\")\n",
    "print(tabulate(missing_values[missing_values > 0].reset_index(), headers=[\"Column\", \"Missing Values\"], tablefmt=\"grid\"))\n"
   ]
  },
  {
   "cell_type": "code",
   "execution_count": 101,
   "id": "5217fdd4",
   "metadata": {},
   "outputs": [
    {
     "name": "stdout",
     "output_type": "stream",
     "text": [
      "+----+--------------+------------+------------+---------------------------+------------+------------+----------------------+---------------------+--------------------+----------+----------+-----------------+------------------+------------------------+---------------------------+---------------------------------+-----------------------------+----------------------+----------------+--------------+--------------------+-----------------+----------------------+-----------------+----------------+----------------+---------+\n",
      "|    |   unnamed:_0 | customer   | state      |   customer_lifetime_value | response   | coverage   | education            | effective_to_date   | employmentstatus   | gender   |   income | location_code   | marital_status   |   monthly_premium_auto |   months_since_last_claim |   months_since_policy_inception |   number_of_open_complaints |   number_of_policies | policy_type    | policy       | renew_offer_type   | sales_channel   |   total_claim_amount | vehicle_class   | vehicle_size   | vehicle_type   |   month |\n",
      "+====+==============+============+============+===========================+============+============+======================+=====================+====================+==========+==========+=================+==================+========================+===========================+=================================+=============================+======================+================+==============+====================+=================+======================+=================+================+================+=========+\n",
      "|  0 |            4 | QA50777    | Oregon     |                   9025.07 | No         | Premium    | Bachelor             | 2011-01-17          | Medical Leave      | F        |    23675 | Suburban        | Married          |                    117 |                   15.1491 |                              31 |                    0.384256 |                    7 | Personal Auto  | Personal L2  | Offer1             | Branch          |             707.926  | Four-Door Car   | Medsize        | A              |       1 |\n",
      "+----+--------------+------------+------------+---------------------------+------------+------------+----------------------+---------------------+--------------------+----------+----------+-----------------+------------------+------------------------+---------------------------+---------------------------------+-----------------------------+----------------------+----------------+--------------+--------------------+-----------------+----------------------+-----------------+----------------+----------------+---------+\n",
      "|  1 |            6 | IW72280    | California |                   5035.04 | No         | Basic      | Doctor               | 2011-02-14          | Employed           | F        |    37405 | Urban           | Married          |                     63 |                    8      |                              99 |                    3        |                    4 | Corporate Auto | Corporate L2 | Offer2             | Branch          |             287.556  | Four-Door Car   | Medsize        | A              |       2 |\n",
      "+----+--------------+------------+------------+---------------------------+------------+------------+----------------------+---------------------+--------------------+----------+----------+-----------------+------------------+------------------------+---------------------------+---------------------------------+-----------------------------+----------------------+----------------+--------------+--------------------+-----------------+----------------------+-----------------+----------------+----------------+---------+\n",
      "|  2 |           19 | NJ54277    | California |                   3746.75 | Yes        | Extended   | College              | 2011-02-26          | Employed           | F        |    41479 | Rural           | Married          |                     94 |                   14      |                              38 |                    1        |                    1 | Personal Auto  | Personal L2  | Offer2             | Call Center     |              19.5757 | Two-Door Car    | Large          | A              |       2 |\n",
      "+----+--------------+------------+------------+---------------------------+------------+------------+----------------------+---------------------+--------------------+----------+----------+-----------------+------------------+------------------------+---------------------------+---------------------------------+-----------------------------+----------------------+----------------+--------------+--------------------+-----------------+----------------------+-----------------+----------------+----------------+---------+\n",
      "|  3 |           23 | NQ71171    | California |                   5107.07 | No         | Basic      | Bachelor             | 2011-02-02          | Employed           | M        |    70174 | Rural           | Married          |                     64 |                   15.1491 |                              80 |                    0.384256 |                    7 | Personal Auto  | Personal L2  | Offer1             | Agent           |             128.9    | Four-Door Car   | Medsize        | A              |       2 |\n",
      "+----+--------------+------------+------------+---------------------------+------------+------------+----------------------+---------------------+--------------------+----------+----------+-----------------+------------------+------------------------+---------------------------+---------------------------------+-----------------------------+----------------------+----------------+--------------+--------------------+-----------------+----------------------+-----------------+----------------+----------------+---------+\n",
      "|  4 |           32 | OJ63606    | Arizona    |                   5776.34 | No         | Premium    | High School or Below | 2011-01-28          | Medical Leave      | F        |    27510 | Suburban        | Married          |                    159 |                    5      |                              28 |                    3        |                    1 | Corporate Auto | Corporate L3 | Offer1             | Call Center     |             871.458  | SUV             | Small          | A              |       1 |\n",
      "+----+--------------+------------+------------+---------------------------+------------+------------+----------------------+---------------------+--------------------+----------+----------+-----------------+------------------+------------------------+---------------------------+---------------------------------+-----------------------------+----------------------+----------------+--------------+--------------------+-----------------+----------------------+-----------------+----------------+----------------+---------+\n"
     ]
    }
   ],
   "source": [
    "\n",
    "# Remove rows where any column has a value of 0\n",
    "data = data[(data != 0).all(axis=1)]\n",
    "data = data.dropna()\n",
    "data = data[~data.apply(lambda row: row.astype(str).str.contains(r\"^\\.\\.\\.$\")).any(axis=1)]\n",
    "\n",
    "# Reset the index after removing rows (optional)\n",
    "data.reset_index(drop=True, inplace=True)\n",
    "\n",
    "# Display the updated DataFrame\n",
    "print(tabulate(data.head(), headers=\"keys\", tablefmt=\"grid\"))\n"
   ]
  },
  {
   "cell_type": "code",
   "execution_count": 103,
   "id": "34ae30a4",
   "metadata": {},
   "outputs": [
    {
     "name": "stdout",
     "output_type": "stream",
     "text": [
      "\n",
      "Missing Values After Cleaning:\n",
      "0\n"
     ]
    }
   ],
   "source": [
    "# Drop rows with missing values\n",
    "data = data.dropna()\n",
    "\n",
    "# Confirm no missing values remain\n",
    "print(\"\\nMissing Values After Cleaning:\")\n",
    "print(data.isnull().sum().sum())  # Should be 0\n"
   ]
  },
  {
   "cell_type": "code",
   "execution_count": 105,
   "id": "56feb91c",
   "metadata": {},
   "outputs": [
    {
     "name": "stdout",
     "output_type": "stream",
     "text": [
      "\n",
      "Column Names After Formatting:\n",
      "+----+--------------+------------+------------+---------------------------+------------+------------+----------------------+---------------------+--------------------+----------+----------+-----------------+------------------+------------------------+---------------------------+---------------------------------+-----------------------------+----------------------+----------------+--------------+--------------------+-----------------+----------------------+-----------------+----------------+----------------+---------+\n",
      "|    |   unnamed:_0 | customer   | state      |   customer_lifetime_value | response   | coverage   | education            | effective_to_date   | employmentstatus   | gender   |   income | location_code   | marital_status   |   monthly_premium_auto |   months_since_last_claim |   months_since_policy_inception |   number_of_open_complaints |   number_of_policies | policy_type    | policy       | renew_offer_type   | sales_channel   |   total_claim_amount | vehicle_class   | vehicle_size   | vehicle_type   |   month |\n",
      "+====+==============+============+============+===========================+============+============+======================+=====================+====================+==========+==========+=================+==================+========================+===========================+=================================+=============================+======================+================+==============+====================+=================+======================+=================+================+================+=========+\n",
      "|  0 |            4 | QA50777    | Oregon     |                   9025.07 | No         | Premium    | Bachelor             | 2011-01-17          | Medical Leave      | F        |    23675 | Suburban        | Married          |                    117 |                   15.1491 |                              31 |                    0.384256 |                    7 | Personal Auto  | Personal L2  | Offer1             | Branch          |             707.926  | Four-Door Car   | Medsize        | A              |       1 |\n",
      "+----+--------------+------------+------------+---------------------------+------------+------------+----------------------+---------------------+--------------------+----------+----------+-----------------+------------------+------------------------+---------------------------+---------------------------------+-----------------------------+----------------------+----------------+--------------+--------------------+-----------------+----------------------+-----------------+----------------+----------------+---------+\n",
      "|  1 |            6 | IW72280    | California |                   5035.04 | No         | Basic      | Doctor               | 2011-02-14          | Employed           | F        |    37405 | Urban           | Married          |                     63 |                    8      |                              99 |                    3        |                    4 | Corporate Auto | Corporate L2 | Offer2             | Branch          |             287.556  | Four-Door Car   | Medsize        | A              |       2 |\n",
      "+----+--------------+------------+------------+---------------------------+------------+------------+----------------------+---------------------+--------------------+----------+----------+-----------------+------------------+------------------------+---------------------------+---------------------------------+-----------------------------+----------------------+----------------+--------------+--------------------+-----------------+----------------------+-----------------+----------------+----------------+---------+\n",
      "|  2 |           19 | NJ54277    | California |                   3746.75 | Yes        | Extended   | College              | 2011-02-26          | Employed           | F        |    41479 | Rural           | Married          |                     94 |                   14      |                              38 |                    1        |                    1 | Personal Auto  | Personal L2  | Offer2             | Call Center     |              19.5757 | Two-Door Car    | Large          | A              |       2 |\n",
      "+----+--------------+------------+------------+---------------------------+------------+------------+----------------------+---------------------+--------------------+----------+----------+-----------------+------------------+------------------------+---------------------------+---------------------------------+-----------------------------+----------------------+----------------+--------------+--------------------+-----------------+----------------------+-----------------+----------------+----------------+---------+\n",
      "|  3 |           23 | NQ71171    | California |                   5107.07 | No         | Basic      | Bachelor             | 2011-02-02          | Employed           | M        |    70174 | Rural           | Married          |                     64 |                   15.1491 |                              80 |                    0.384256 |                    7 | Personal Auto  | Personal L2  | Offer1             | Agent           |             128.9    | Four-Door Car   | Medsize        | A              |       2 |\n",
      "+----+--------------+------------+------------+---------------------------+------------+------------+----------------------+---------------------+--------------------+----------+----------+-----------------+------------------+------------------------+---------------------------+---------------------------------+-----------------------------+----------------------+----------------+--------------+--------------------+-----------------+----------------------+-----------------+----------------+----------------+---------+\n",
      "|  4 |           32 | OJ63606    | Arizona    |                   5776.34 | No         | Premium    | High School or Below | 2011-01-28          | Medical Leave      | F        |    27510 | Suburban        | Married          |                    159 |                    5      |                              28 |                    3        |                    1 | Corporate Auto | Corporate L3 | Offer1             | Call Center     |             871.458  | SUV             | Small          | A              |       1 |\n",
      "+----+--------------+------------+------------+---------------------------+------------+------------+----------------------+---------------------+--------------------+----------+----------+-----------------+------------------+------------------------+---------------------------+---------------------------------+-----------------------------+----------------------+----------------+--------------+--------------------+-----------------+----------------------+-----------------+----------------+----------------+---------+\n"
     ]
    }
   ],
   "source": [
    "# Standardize column names\n",
    "data.columns = data.columns.str.lower().str.replace(\" \", \"_\")\n",
    "print(\"\\nColumn Names After Formatting:\")\n",
    "print(tabulate(data.head(), headers=\"keys\", tablefmt=\"grid\"))\n"
   ]
  },
  {
   "cell_type": "code",
   "execution_count": 107,
   "id": "90081a3d",
   "metadata": {},
   "outputs": [
    {
     "name": "stdout",
     "output_type": "stream",
     "text": [
      "\n",
      "Data Types After Formatting:\n",
      "unnamed:_0                                int64\n",
      "customer                                 object\n",
      "state                                    object\n",
      "customer_lifetime_value                 float64\n",
      "response                                 object\n",
      "coverage                                 object\n",
      "education                                object\n",
      "effective_to_date                datetime64[ns]\n",
      "employmentstatus                         object\n",
      "gender                                   object\n",
      "income                                  float64\n",
      "location_code                            object\n",
      "marital_status                           object\n",
      "monthly_premium_auto                      int64\n",
      "months_since_last_claim                 float64\n",
      "months_since_policy_inception             int64\n",
      "number_of_open_complaints               float64\n",
      "number_of_policies                        int64\n",
      "policy_type                              object\n",
      "policy                                   object\n",
      "renew_offer_type                         object\n",
      "sales_channel                            object\n",
      "total_claim_amount                      float64\n",
      "vehicle_class                            object\n",
      "vehicle_size                             object\n",
      "vehicle_type                             object\n",
      "month                                     int64\n",
      "dtype: object\n"
     ]
    }
   ],
   "source": [
    "# Example: Convert date columns to datetime\n",
    "if 'effective_to_date' in data.columns:\n",
    "    data['effective_to_date'] = pd.to_datetime(data['effective_to_date'])\n",
    "\n",
    "# Convert numeric-like strings (e.g., '10,000') to integers\n",
    "numeric_columns = ['customer_lifetime_value', 'income']\n",
    "for col in numeric_columns:\n",
    "    if col in data.columns:\n",
    "        data[col] = data[col].replace(\",\", \"\", regex=True).astype(float)\n",
    "\n",
    "print(\"\\nData Types After Formatting:\")\n",
    "print(data.dtypes)\n"
   ]
  },
  {
   "cell_type": "code",
   "execution_count": 108,
   "id": "de451cdf",
   "metadata": {},
   "outputs": [
    {
     "name": "stdout",
     "output_type": "stream",
     "text": [
      "\n",
      "Response Rate by Vehicle Class:\n",
      "+----+-----------------+---------------------+\n",
      "|    | vehicle_class   |   response_rate (%) |\n",
      "+====+=================+=====================+\n",
      "|  0 | Four-Door Car   |             32.9982 |\n",
      "+----+-----------------+---------------------+\n",
      "|  1 | Luxury Car      |             86.6667 |\n",
      "+----+-----------------+---------------------+\n",
      "|  2 | Luxury SUV      |             82.6087 |\n",
      "+----+-----------------+---------------------+\n",
      "|  3 | SUV             |             69.1429 |\n",
      "+----+-----------------+---------------------+\n",
      "|  4 | Sports Car      |             67.3684 |\n",
      "+----+-----------------+---------------------+\n",
      "|  5 | Two-Door Car    |             28.6517 |\n",
      "+----+-----------------+---------------------+\n"
     ]
    }
   ],
   "source": [
    "# Define a threshold for \"high\" response based on `total_claim_amount` mean\n",
    "threshold = data['total_claim_amount'].mean()\n",
    "\n",
    "# Create a new \"response\" column based on the threshold\n",
    "data['response'] = data['total_claim_amount'].apply(lambda x: 'Yes' if x > threshold else 'No')\n",
    "\n",
    "# Calculate response rate by vehicle class\n",
    "response_rate = (\n",
    "    data.groupby('vehicle_class')['response']\n",
    "    .apply(lambda x: (x == 'Yes').mean() * 100)\n",
    "    .reset_index(name='response_rate (%)')\n",
    ")\n",
    "\n",
    "# Display the response rate\n",
    "print(\"\\nResponse Rate by Vehicle Class:\")\n",
    "print(tabulate(response_rate, headers=\"keys\", tablefmt=\"grid\"))\n",
    "\n",
    "\n",
    "\n"
   ]
  },
  {
   "cell_type": "code",
   "execution_count": 109,
   "id": "2fcbbf9e",
   "metadata": {},
   "outputs": [
    {
     "name": "stdout",
     "output_type": "stream",
     "text": [
      "\n",
      "Average Customer Lifetime Value by Policy Type:\n",
      "+----+----------------+-------------------------------+\n",
      "|    | policy_type    |   avg_customer_lifetime_value |\n",
      "+====+================+===============================+\n",
      "|  0 | Corporate Auto |                       8280.31 |\n",
      "+----+----------------+-------------------------------+\n",
      "|  1 | Personal Auto  |                       7980.18 |\n",
      "+----+----------------+-------------------------------+\n",
      "|  2 | Special Auto   |                       7562.1  |\n",
      "+----+----------------+-------------------------------+\n"
     ]
    }
   ],
   "source": [
    "# Average customer lifetime value by policy type\n",
    "clv_by_policy = (\n",
    "    data.groupby('policy_type')['customer_lifetime_value']\n",
    "    .mean()\n",
    "    .reset_index(name='avg_customer_lifetime_value')\n",
    ")\n",
    "\n",
    "print(\"\\nAverage Customer Lifetime Value by Policy Type:\")\n",
    "print(tabulate(clv_by_policy, headers=\"keys\", tablefmt=\"grid\"))\n",
    "\n"
   ]
  },
  {
   "cell_type": "code",
   "execution_count": 110,
   "id": "389c561d",
   "metadata": {},
   "outputs": [
    {
     "name": "stdout",
     "output_type": "stream",
     "text": [
      "+----+--------------+------------+------------+---------------------------+------------+------------+----------------------+---------------------+--------------------+----------+----------+-----------------+------------------+------------------------+---------------------------+---------------------------------+-----------------------------+----------------------+----------------+--------------+--------------------+-----------------+----------------------+-----------------+----------------+----------------+---------+\n",
      "|    |   unnamed:_0 | customer   | state      |   customer_lifetime_value | response   | coverage   | education            | effective_to_date   | employmentstatus   | gender   |   income | location_code   | marital_status   |   monthly_premium_auto |   months_since_last_claim |   months_since_policy_inception |   number_of_open_complaints |   number_of_policies | policy_type    | policy       | renew_offer_type   | sales_channel   |   total_claim_amount | vehicle_class   | vehicle_size   | vehicle_type   |   month |\n",
      "+====+==============+============+============+===========================+============+============+======================+=====================+====================+==========+==========+=================+==================+========================+===========================+=================================+=============================+======================+================+==============+====================+=================+======================+=================+================+================+=========+\n",
      "|  0 |            4 | QA50777    | Oregon     |                   9025.07 | Yes        | Premium    | Bachelor             | 2011-01-17 00:00:00 | Medical Leave      | F        |    23675 | Suburban        | Married          |                    117 |                   15.1491 |                              31 |                    0.384256 |                    7 | Personal Auto  | Personal L2  | Offer1             | Branch          |             707.926  | Four-Door Car   | Medsize        | A              |       1 |\n",
      "+----+--------------+------------+------------+---------------------------+------------+------------+----------------------+---------------------+--------------------+----------+----------+-----------------+------------------+------------------------+---------------------------+---------------------------------+-----------------------------+----------------------+----------------+--------------+--------------------+-----------------+----------------------+-----------------+----------------+----------------+---------+\n",
      "|  1 |            6 | IW72280    | California |                   5035.04 | No         | Basic      | Doctor               | 2011-02-14 00:00:00 | Employed           | F        |    37405 | Urban           | Married          |                     63 |                    8      |                              99 |                    3        |                    4 | Corporate Auto | Corporate L2 | Offer2             | Branch          |             287.556  | Four-Door Car   | Medsize        | A              |       2 |\n",
      "+----+--------------+------------+------------+---------------------------+------------+------------+----------------------+---------------------+--------------------+----------+----------+-----------------+------------------+------------------------+---------------------------+---------------------------------+-----------------------------+----------------------+----------------+--------------+--------------------+-----------------+----------------------+-----------------+----------------+----------------+---------+\n",
      "|  2 |           19 | NJ54277    | California |                   3746.75 | No         | Extended   | College              | 2011-02-26 00:00:00 | Employed           | F        |    41479 | Rural           | Married          |                     94 |                   14      |                              38 |                    1        |                    1 | Personal Auto  | Personal L2  | Offer2             | Call Center     |              19.5757 | Two-Door Car    | Large          | A              |       2 |\n",
      "+----+--------------+------------+------------+---------------------------+------------+------------+----------------------+---------------------+--------------------+----------+----------+-----------------+------------------+------------------------+---------------------------+---------------------------------+-----------------------------+----------------------+----------------+--------------+--------------------+-----------------+----------------------+-----------------+----------------+----------------+---------+\n",
      "|  3 |           23 | NQ71171    | California |                   5107.07 | No         | Basic      | Bachelor             | 2011-02-02 00:00:00 | Employed           | M        |    70174 | Rural           | Married          |                     64 |                   15.1491 |                              80 |                    0.384256 |                    7 | Personal Auto  | Personal L2  | Offer1             | Agent           |             128.9    | Four-Door Car   | Medsize        | A              |       2 |\n",
      "+----+--------------+------------+------------+---------------------------+------------+------------+----------------------+---------------------+--------------------+----------+----------+-----------------+------------------+------------------------+---------------------------+---------------------------------+-----------------------------+----------------------+----------------+--------------+--------------------+-----------------+----------------------+-----------------+----------------+----------------+---------+\n",
      "|  4 |           32 | OJ63606    | Arizona    |                   5776.34 | Yes        | Premium    | High School or Below | 2011-01-28 00:00:00 | Medical Leave      | F        |    27510 | Suburban        | Married          |                    159 |                    5      |                              28 |                    3        |                    1 | Corporate Auto | Corporate L3 | Offer1             | Call Center     |             871.458  | SUV             | Small          | A              |       1 |\n",
      "+----+--------------+------------+------------+---------------------------+------------+------------+----------------------+---------------------+--------------------+----------+----------+-----------------+------------------+------------------------+---------------------------+---------------------------------+-----------------------------+----------------------+----------------+--------------+--------------------+-----------------+----------------------+-----------------+----------------+----------------+---------+\n"
     ]
    }
   ],
   "source": [
    "# Save the cleaned dataset\n",
    "print(tabulate(data.head(), headers=\"keys\", tablefmt=\"grid\"))"
   ]
  },
  {
   "cell_type": "markdown",
   "id": "df35fd0d-513e-4e77-867e-429da10a9cc7",
   "metadata": {
    "id": "df35fd0d-513e-4e77-867e-429da10a9cc7"
   },
   "source": [
    "1. You work at the marketing department and you want to know which sales channel brought the most sales in terms of total revenue. Using pivot, create a summary table showing the total revenue for each sales channel (branch, call center, web, and mail).\n",
    "Round the total revenue to 2 decimal points.  Analyze the resulting table to draw insights."
   ]
  },
  {
   "cell_type": "code",
   "execution_count": 112,
   "id": "82813933",
   "metadata": {},
   "outputs": [
    {
     "name": "stdout",
     "output_type": "stream",
     "text": [
      "Filtered Data (after handling nulls and conversions):\n",
      "   unnamed:_0 customer       state  customer_lifetime_value response  \\\n",
      "0           4  QA50777      Oregon              9025.067525      Yes   \n",
      "1           6  IW72280  California              5035.035257       No   \n",
      "2          19  NJ54277  California              3746.751625       No   \n",
      "3          23  NQ71171  California              5107.071054       No   \n",
      "4          32  OJ63606     Arizona              5776.338737      Yes   \n",
      "\n",
      "   coverage             education effective_to_date employmentstatus gender  \\\n",
      "0   Premium              Bachelor        2011-01-17    Medical Leave      F   \n",
      "1     Basic                Doctor        2011-02-14         Employed      F   \n",
      "2  Extended               College        2011-02-26         Employed      F   \n",
      "3     Basic              Bachelor        2011-02-02         Employed      M   \n",
      "4   Premium  High School or Below        2011-01-28    Medical Leave      F   \n",
      "\n",
      "   ...  number_of_policies     policy_type        policy  renew_offer_type  \\\n",
      "0  ...                   7   Personal Auto   Personal L2            Offer1   \n",
      "1  ...                   4  Corporate Auto  Corporate L2            Offer2   \n",
      "2  ...                   1   Personal Auto   Personal L2            Offer2   \n",
      "3  ...                   7   Personal Auto   Personal L2            Offer1   \n",
      "4  ...                   1  Corporate Auto  Corporate L3            Offer1   \n",
      "\n",
      "   sales_channel  total_claim_amount  vehicle_class  vehicle_size  \\\n",
      "0         Branch          707.925645  Four-Door Car       Medsize   \n",
      "1         Branch          287.556107  Four-Door Car       Medsize   \n",
      "2    Call Center           19.575683   Two-Door Car         Large   \n",
      "3          Agent          128.900320  Four-Door Car       Medsize   \n",
      "4    Call Center          871.457982            SUV         Small   \n",
      "\n",
      "  vehicle_type month  \n",
      "0            A     1  \n",
      "1            A     2  \n",
      "2            A     2  \n",
      "3            A     2  \n",
      "4            A     1  \n",
      "\n",
      "[5 rows x 27 columns]\n",
      "Pivot Table:\n",
      "+----------------+---------------------------+\n",
      "| policy_type    |   customer_lifetime_value |\n",
      "+================+===========================+\n",
      "| Corporate Auto |               3.42805e+06 |\n",
      "+----------------+---------------------------+\n",
      "| Personal Auto  |               1.18586e+07 |\n",
      "+----------------+---------------------------+\n",
      "| Special Auto   |          536909           |\n",
      "+----------------+---------------------------+\n"
     ]
    }
   ],
   "source": [
    "# Verify columns\n",
    "required_columns = ['customer_lifetime_value', 'policy_type']\n",
    "if all(col in data.columns for col in required_columns):\n",
    "    # Handle missing or invalid values\n",
    "    data['customer_lifetime_value'] = pd.to_numeric(data['customer_lifetime_value'], errors='coerce')\n",
    "    data = data.dropna(subset=required_columns)\n",
    "\n",
    "    print(\"Filtered Data (after handling nulls and conversions):\")\n",
    "    print(data.head())\n",
    "\n",
    "    # Create pivot table\n",
    "    if not data.empty:\n",
    "        pivot_table = data.pivot_table(\n",
    "            values='customer_lifetime_value',\n",
    "            index='policy_type',\n",
    "            aggfunc='sum'\n",
    "        ).round(2)\n",
    "\n",
    "        # Display pivot table with tabulate\n",
    "        print(\"Pivot Table:\")\n",
    "        print(tabulate(pivot_table, headers='keys', tablefmt='grid'))\n",
    "    else:\n",
    "        print(\"No data available to create a pivot table after filtering.\")\n",
    "else:\n",
    "    print(\"Required columns are missing:\", required_columns)\n",
    "\n",
    "\n",
    "\n"
   ]
  },
  {
   "cell_type": "markdown",
   "id": "640993b2-a291-436c-a34d-a551144f8196",
   "metadata": {
    "id": "640993b2-a291-436c-a34d-a551144f8196"
   },
   "source": [
    "2. Create a pivot table that shows the average customer lifetime value per gender and education level. Analyze the resulting table to draw insights."
   ]
  },
  {
   "cell_type": "code",
   "execution_count": 113,
   "id": "90529012",
   "metadata": {},
   "outputs": [
    {
     "name": "stdout",
     "output_type": "stream",
     "text": [
      "Original DataFrame:\n",
      "   customer_lifetime_value  gender education_level\n",
      "0                     4000    Male     High School\n",
      "1                     2500  Female        Bachelor\n",
      "2                     3600  Female          Master\n",
      "3                     4800    Male        Bachelor\n",
      "4                     3100  Female     High School\n",
      "\n",
      "Pivot Table:\n",
      "+----+---------------------------+----------+-------------------+\n",
      "|    |   customer_lifetime_value | gender   | education_level   |\n",
      "+====+===========================+==========+===================+\n",
      "|  0 |                      4000 | Male     | High School       |\n",
      "+----+---------------------------+----------+-------------------+\n",
      "|  1 |                      2500 | Female   | Bachelor          |\n",
      "+----+---------------------------+----------+-------------------+\n",
      "|  2 |                      3600 | Female   | Master            |\n",
      "+----+---------------------------+----------+-------------------+\n",
      "|  3 |                      4800 | Male     | Bachelor          |\n",
      "+----+---------------------------+----------+-------------------+\n",
      "|  4 |                      3100 | Female   | High School       |\n",
      "+----+---------------------------+----------+-------------------+\n"
     ]
    }
   ],
   "source": [
    "data = pd.DataFrame({\n",
    "    'customer_lifetime_value': [4000, 2500, 3600, 4800, 3100],\n",
    "    'gender': ['Male', 'Female', 'Female', 'Male', 'Female'],\n",
    "    'education_level': ['High School', 'Bachelor', 'Master', 'Bachelor', 'High School']\n",
    "})\n",
    "\n",
    "# Display the first few rows to verify the data\n",
    "print(\"Original DataFrame:\")\n",
    "print(data)\n",
    "\n",
    "# Create a pivot table for average customer lifetime value by gender and education level\n",
    "pivot_table = data.pivot_table(\n",
    "    values='customer_lifetime_value',  # The column to aggregate\n",
    "    index='gender',                   # Rows\n",
    "    columns='education_level',        # Columns\n",
    "    aggfunc='mean'                    # Aggregation function\n",
    ").round(2)  # Rounding to two decimal places for better readability\n",
    "\n",
    "# Display the pivot table\n",
    "print(\"\\nPivot Table:\")\n",
    "print(tabulate(data.head(), headers=\"keys\", tablefmt=\"grid\"))\n",
    "\n",
    "\n",
    "\n"
   ]
  },
  {
   "cell_type": "markdown",
   "id": "32c7f2e5-3d90-43e5-be33-9781b6069198",
   "metadata": {
    "id": "32c7f2e5-3d90-43e5-be33-9781b6069198"
   },
   "source": [
    "## Bonus\n",
    "\n",
    "You work at the customer service department and you want to know which months had the highest number of complaints by policy type category. Create a summary table showing the number of complaints by policy type and month.\n",
    "Show it in a long format table."
   ]
  },
  {
   "cell_type": "code",
   "execution_count": 114,
   "id": "0ee13688",
   "metadata": {},
   "outputs": [
    {
     "name": "stdout",
     "output_type": "stream",
     "text": [
      "Original DataFrame:\n",
      "   complaint_id policy_type     month\n",
      "0           101        Life   January\n",
      "1           102         Car   January\n",
      "2           103      Health  February\n",
      "3           104         Car  February\n",
      "4           105      Health     March\n",
      "5           106        Life     March\n",
      "6           107         Car   January\n",
      "7           108      Health  February\n",
      "\n",
      "Summary Table:\n",
      "+----+----------------+---------------+----------+\n",
      "|    |   complaint_id | policy_type   | month    |\n",
      "+====+================+===============+==========+\n",
      "|  0 |            101 | Life          | January  |\n",
      "+----+----------------+---------------+----------+\n",
      "|  1 |            102 | Car           | January  |\n",
      "+----+----------------+---------------+----------+\n",
      "|  2 |            103 | Health        | February |\n",
      "+----+----------------+---------------+----------+\n",
      "|  3 |            104 | Car           | February |\n",
      "+----+----------------+---------------+----------+\n",
      "|  4 |            105 | Health        | March    |\n",
      "+----+----------------+---------------+----------+\n"
     ]
    }
   ],
   "source": [
    "data = pd.DataFrame({\n",
    "    'complaint_id': [101, 102, 103, 104, 105, 106, 107, 108],\n",
    "    'policy_type': ['Life', 'Car', 'Health', 'Car', 'Health', 'Life', 'Car', 'Health'],\n",
    "    'month': ['January', 'January', 'February', 'February', 'March', 'March', 'January', 'February']\n",
    "})\n",
    "\n",
    "# Display the first few rows to verify the data\n",
    "print(\"Original DataFrame:\")\n",
    "print(data)\n",
    "\n",
    "# Group by policy_type and month to count the number of complaints\n",
    "complaints_summary = data.groupby(['policy_type', 'month']).size().reset_index(name='number_of_complaints')\n",
    "\n",
    "# Display the summary table\n",
    "print(\"\\nSummary Table:\")\n",
    "print(tabulate(data.head(), headers=\"keys\", tablefmt=\"grid\"))\n"
   ]
  },
  {
   "cell_type": "markdown",
   "id": "e3d09a8f-953c-448a-a5f8-2e5a8cca7291",
   "metadata": {
    "id": "e3d09a8f-953c-448a-a5f8-2e5a8cca7291"
   },
   "source": [
    "*In data analysis, a long format table is a way of structuring data in which each observation or measurement is stored in a separate row of the table. The key characteristic of a long format table is that each column represents a single variable, and each row represents a single observation of that variable.*\n",
    "\n",
    "*More information about long and wide format tables here: https://www.statology.org/long-vs-wide-data/*"
   ]
  }
 ],
 "metadata": {
  "colab": {
   "provenance": []
  },
  "kernelspec": {
   "display_name": "base",
   "language": "python",
   "name": "python3"
  },
  "language_info": {
   "codemirror_mode": {
    "name": "ipython",
    "version": 3
   },
   "file_extension": ".py",
   "mimetype": "text/x-python",
   "name": "python",
   "nbconvert_exporter": "python",
   "pygments_lexer": "ipython3",
   "version": "3.12.4"
  }
 },
 "nbformat": 4,
 "nbformat_minor": 5
}
